{
  "nbformat": 4,
  "nbformat_minor": 0,
  "metadata": {
    "colab": {
      "name": "Titanic Survivor's Classification.ipynb",
      "provenance": [],
      "collapsed_sections": []
    },
    "kernelspec": {
      "name": "python3",
      "display_name": "Python 3"
    }
  },
  "cells": [
    {
      "cell_type": "markdown",
      "metadata": {
        "id": "KqdLumTsew8B",
        "colab_type": "text"
      },
      "source": [
        "#Titanic Survivor's Classification - Kaggle Competition\n",
        "_**Problem Statement:**  To predict if a passenger survived the sinking of the Titanic or not._<br/>\n",
        "_**Competition Link:**  https://www.kaggle.com/c/titanic_<br/><br/>\n",
        "\n",
        "_**Solution by:**  Anuj Vyas._<br/>\n",
        "_**GitHub Profile:**  https://github.com/anujvyas_<br/>\n",
        "_**Kaggle Profile:**  https://www.kaggle.com/anujvyas_<br/>"
      ]
    },
    {
      "cell_type": "code",
      "metadata": {
        "id": "SR1cUbzhJSK5",
        "colab_type": "code",
        "colab": {
          "base_uri": "https://localhost:8080/",
          "height": 166
        },
        "outputId": "d47b8e2b-8a03-4746-826a-ca67692b1823"
      },
      "source": [
        "'''\n",
        "\n",
        "Project Planning - Overview of how I tried to attempt this problem statement\n",
        "\n",
        "--- Exploratory Data Analysis (EDA) ---\n",
        "  Understand nature of the data .info(), .describe()\n",
        "  Plot Histograms and boxplots for numeric data\n",
        "  Plot Value counts for categorical data\n",
        "\n",
        "  - Find answers to these questions:\n",
        "    Q. Did wealthy(paying high fares)/class of people affects the survival? \n",
        "    Q. Does age, sex and location have any impact on survival?\n",
        "    Q. Does different cabin locations affects the survival?\n",
        "    Q. Does sibling/spouse, parent/children have any effect on survival?\n",
        "    \n",
        "--- Feature Engineering ---\n",
        "  Create a new feature name_title from Name feature\n",
        "  Create a new feature cabin_initial from Cabin feature\n",
        "  Create a new feature from Ticket\n",
        "\n",
        "--- Feature Selection ---\n",
        "  Find correlation between features\n",
        "  Removing features having very high correlation eg. corr > 0.8\n",
        "\n",
        "--- Data Preprocessing ---\n",
        "  - Data Cleaning:\n",
        "    Removing unwanted columns eg. PassengerId, Name, Ticket\n",
        "    Handling missing data\n",
        "\n",
        "  - Feature Scaling:\n",
        "    Is feature scaling required/necessary?\n",
        "    Which scaling technique to be used?\n",
        "\n",
        "--- Model Building ---\n",
        "  Which algorithms to select?\n",
        "\n",
        "'''"
      ],
      "execution_count": 62,
      "outputs": [
        {
          "output_type": "execute_result",
          "data": {
            "application/vnd.google.colaboratory.intrinsic": {
              "type": "string"
            },
            "text/plain": [
              "'\\n\\nProject Planning - Overview of how I tried to attempt this problem statement\\n\\n--- Exploratory Data Analysis (EDA) ---\\n  Understand nature of the data .info(), .describe()\\n  Plot Histograms and boxplots for numeric data\\n  Plot Value counts for categorical data\\n\\n  - Find answers to these questions:\\n    Q. Did wealthy(paying high fares)/class of people affects the survival? \\n    Q. Does age, sex and location have any impact on survival?\\n    Q. Does different cabin locations affects the survival?\\n    Q. Does sibling/spouse, parent/children have any effect on survival?\\n    \\n--- Feature Engineering ---\\n  Create a new feature name_title from Name feature\\n  Create a new feature cabin_initial from Cabin feature\\n  Create a new feature from Ticket\\n\\n--- Feature Selection ---\\n  Find correlation between features\\n  Removing features having very high correlation eg. corr > 0.8\\n\\n--- Data Preprocessing ---\\n  - Data Cleaning:\\n    Removing unwanted columns eg. PassengerId, Name, Ticket\\n    Handling missing data\\n\\n  - Feature Scaling:\\n    Is feature scaling required/necessary?\\n    Which scaling technique to be used?\\n\\n--- Model Building ---\\n  Which algorithms to select?\\n\\n'"
            ]
          },
          "metadata": {
            "tags": []
          },
          "execution_count": 62
        }
      ]
    },
    {
      "cell_type": "code",
      "metadata": {
        "id": "_-7vEYTpdffY",
        "colab_type": "code",
        "colab": {}
      },
      "source": [
        "# Importing essential libraries\n",
        "import numpy as np\n",
        "import pandas as pd\n",
        "\n",
        "import matplotlib.pyplot as plt\n",
        "%matplotlib inline\n",
        "import seaborn as sns"
      ],
      "execution_count": 63,
      "outputs": []
    },
    {
      "cell_type": "code",
      "metadata": {
        "id": "T8tzN_t-kGsM",
        "colab_type": "code",
        "colab": {}
      },
      "source": [
        "# Loading the dataset\n",
        "train = pd.read_csv('train.csv')\n",
        "test = pd.read_csv('test.csv')"
      ],
      "execution_count": 64,
      "outputs": []
    },
    {
      "cell_type": "markdown",
      "metadata": {
        "id": "M21iU30YVUlD",
        "colab_type": "text"
      },
      "source": [
        "## Exploratory Data Analysis\n",
        "*   Finding statistical information for numeric feature(s)\n",
        "*   Observing the distribution of data for numeric & categorical feature(s)\n",
        "*   Finding # of features having NaN/missing values"
      ]
    },
    {
      "cell_type": "code",
      "metadata": {
        "id": "d0XimqGJm8Ls",
        "colab_type": "code",
        "colab": {
          "base_uri": "https://localhost:8080/",
          "height": 241
        },
        "outputId": "ec9de687-5b65-402e-b767-587f95daec81"
      },
      "source": [
        "train.head(n=5)"
      ],
      "execution_count": 65,
      "outputs": [
        {
          "output_type": "execute_result",
          "data": {
            "text/html": [
              "<div>\n",
              "<style scoped>\n",
              "    .dataframe tbody tr th:only-of-type {\n",
              "        vertical-align: middle;\n",
              "    }\n",
              "\n",
              "    .dataframe tbody tr th {\n",
              "        vertical-align: top;\n",
              "    }\n",
              "\n",
              "    .dataframe thead th {\n",
              "        text-align: right;\n",
              "    }\n",
              "</style>\n",
              "<table border=\"1\" class=\"dataframe\">\n",
              "  <thead>\n",
              "    <tr style=\"text-align: right;\">\n",
              "      <th></th>\n",
              "      <th>PassengerId</th>\n",
              "      <th>Survived</th>\n",
              "      <th>Pclass</th>\n",
              "      <th>Name</th>\n",
              "      <th>Sex</th>\n",
              "      <th>Age</th>\n",
              "      <th>SibSp</th>\n",
              "      <th>Parch</th>\n",
              "      <th>Ticket</th>\n",
              "      <th>Fare</th>\n",
              "      <th>Cabin</th>\n",
              "      <th>Embarked</th>\n",
              "    </tr>\n",
              "  </thead>\n",
              "  <tbody>\n",
              "    <tr>\n",
              "      <th>0</th>\n",
              "      <td>1</td>\n",
              "      <td>0</td>\n",
              "      <td>3</td>\n",
              "      <td>Braund, Mr. Owen Harris</td>\n",
              "      <td>male</td>\n",
              "      <td>22.0</td>\n",
              "      <td>1</td>\n",
              "      <td>0</td>\n",
              "      <td>A/5 21171</td>\n",
              "      <td>7.2500</td>\n",
              "      <td>NaN</td>\n",
              "      <td>S</td>\n",
              "    </tr>\n",
              "    <tr>\n",
              "      <th>1</th>\n",
              "      <td>2</td>\n",
              "      <td>1</td>\n",
              "      <td>1</td>\n",
              "      <td>Cumings, Mrs. John Bradley (Florence Briggs Th...</td>\n",
              "      <td>female</td>\n",
              "      <td>38.0</td>\n",
              "      <td>1</td>\n",
              "      <td>0</td>\n",
              "      <td>PC 17599</td>\n",
              "      <td>71.2833</td>\n",
              "      <td>C85</td>\n",
              "      <td>C</td>\n",
              "    </tr>\n",
              "    <tr>\n",
              "      <th>2</th>\n",
              "      <td>3</td>\n",
              "      <td>1</td>\n",
              "      <td>3</td>\n",
              "      <td>Heikkinen, Miss. Laina</td>\n",
              "      <td>female</td>\n",
              "      <td>26.0</td>\n",
              "      <td>0</td>\n",
              "      <td>0</td>\n",
              "      <td>STON/O2. 3101282</td>\n",
              "      <td>7.9250</td>\n",
              "      <td>NaN</td>\n",
              "      <td>S</td>\n",
              "    </tr>\n",
              "    <tr>\n",
              "      <th>3</th>\n",
              "      <td>4</td>\n",
              "      <td>1</td>\n",
              "      <td>1</td>\n",
              "      <td>Futrelle, Mrs. Jacques Heath (Lily May Peel)</td>\n",
              "      <td>female</td>\n",
              "      <td>35.0</td>\n",
              "      <td>1</td>\n",
              "      <td>0</td>\n",
              "      <td>113803</td>\n",
              "      <td>53.1000</td>\n",
              "      <td>C123</td>\n",
              "      <td>S</td>\n",
              "    </tr>\n",
              "    <tr>\n",
              "      <th>4</th>\n",
              "      <td>5</td>\n",
              "      <td>0</td>\n",
              "      <td>3</td>\n",
              "      <td>Allen, Mr. William Henry</td>\n",
              "      <td>male</td>\n",
              "      <td>35.0</td>\n",
              "      <td>0</td>\n",
              "      <td>0</td>\n",
              "      <td>373450</td>\n",
              "      <td>8.0500</td>\n",
              "      <td>NaN</td>\n",
              "      <td>S</td>\n",
              "    </tr>\n",
              "  </tbody>\n",
              "</table>\n",
              "</div>"
            ],
            "text/plain": [
              "   PassengerId  Survived  Pclass  ...     Fare Cabin  Embarked\n",
              "0            1         0       3  ...   7.2500   NaN         S\n",
              "1            2         1       1  ...  71.2833   C85         C\n",
              "2            3         1       3  ...   7.9250   NaN         S\n",
              "3            4         1       1  ...  53.1000  C123         S\n",
              "4            5         0       3  ...   8.0500   NaN         S\n",
              "\n",
              "[5 rows x 12 columns]"
            ]
          },
          "metadata": {
            "tags": []
          },
          "execution_count": 65
        }
      ]
    },
    {
      "cell_type": "code",
      "metadata": {
        "id": "sEzlEmkTZHYV",
        "colab_type": "code",
        "colab": {
          "base_uri": "https://localhost:8080/",
          "height": 206
        },
        "outputId": "97a0dbfc-c569-4170-cf69-ae9986648e84"
      },
      "source": [
        "test.head(n=5)"
      ],
      "execution_count": 66,
      "outputs": [
        {
          "output_type": "execute_result",
          "data": {
            "text/html": [
              "<div>\n",
              "<style scoped>\n",
              "    .dataframe tbody tr th:only-of-type {\n",
              "        vertical-align: middle;\n",
              "    }\n",
              "\n",
              "    .dataframe tbody tr th {\n",
              "        vertical-align: top;\n",
              "    }\n",
              "\n",
              "    .dataframe thead th {\n",
              "        text-align: right;\n",
              "    }\n",
              "</style>\n",
              "<table border=\"1\" class=\"dataframe\">\n",
              "  <thead>\n",
              "    <tr style=\"text-align: right;\">\n",
              "      <th></th>\n",
              "      <th>PassengerId</th>\n",
              "      <th>Pclass</th>\n",
              "      <th>Name</th>\n",
              "      <th>Sex</th>\n",
              "      <th>Age</th>\n",
              "      <th>SibSp</th>\n",
              "      <th>Parch</th>\n",
              "      <th>Ticket</th>\n",
              "      <th>Fare</th>\n",
              "      <th>Cabin</th>\n",
              "      <th>Embarked</th>\n",
              "    </tr>\n",
              "  </thead>\n",
              "  <tbody>\n",
              "    <tr>\n",
              "      <th>0</th>\n",
              "      <td>892</td>\n",
              "      <td>3</td>\n",
              "      <td>Kelly, Mr. James</td>\n",
              "      <td>male</td>\n",
              "      <td>34.5</td>\n",
              "      <td>0</td>\n",
              "      <td>0</td>\n",
              "      <td>330911</td>\n",
              "      <td>7.8292</td>\n",
              "      <td>NaN</td>\n",
              "      <td>Q</td>\n",
              "    </tr>\n",
              "    <tr>\n",
              "      <th>1</th>\n",
              "      <td>893</td>\n",
              "      <td>3</td>\n",
              "      <td>Wilkes, Mrs. James (Ellen Needs)</td>\n",
              "      <td>female</td>\n",
              "      <td>47.0</td>\n",
              "      <td>1</td>\n",
              "      <td>0</td>\n",
              "      <td>363272</td>\n",
              "      <td>7.0000</td>\n",
              "      <td>NaN</td>\n",
              "      <td>S</td>\n",
              "    </tr>\n",
              "    <tr>\n",
              "      <th>2</th>\n",
              "      <td>894</td>\n",
              "      <td>2</td>\n",
              "      <td>Myles, Mr. Thomas Francis</td>\n",
              "      <td>male</td>\n",
              "      <td>62.0</td>\n",
              "      <td>0</td>\n",
              "      <td>0</td>\n",
              "      <td>240276</td>\n",
              "      <td>9.6875</td>\n",
              "      <td>NaN</td>\n",
              "      <td>Q</td>\n",
              "    </tr>\n",
              "    <tr>\n",
              "      <th>3</th>\n",
              "      <td>895</td>\n",
              "      <td>3</td>\n",
              "      <td>Wirz, Mr. Albert</td>\n",
              "      <td>male</td>\n",
              "      <td>27.0</td>\n",
              "      <td>0</td>\n",
              "      <td>0</td>\n",
              "      <td>315154</td>\n",
              "      <td>8.6625</td>\n",
              "      <td>NaN</td>\n",
              "      <td>S</td>\n",
              "    </tr>\n",
              "    <tr>\n",
              "      <th>4</th>\n",
              "      <td>896</td>\n",
              "      <td>3</td>\n",
              "      <td>Hirvonen, Mrs. Alexander (Helga E Lindqvist)</td>\n",
              "      <td>female</td>\n",
              "      <td>22.0</td>\n",
              "      <td>1</td>\n",
              "      <td>1</td>\n",
              "      <td>3101298</td>\n",
              "      <td>12.2875</td>\n",
              "      <td>NaN</td>\n",
              "      <td>S</td>\n",
              "    </tr>\n",
              "  </tbody>\n",
              "</table>\n",
              "</div>"
            ],
            "text/plain": [
              "   PassengerId  Pclass  ... Cabin Embarked\n",
              "0          892       3  ...   NaN        Q\n",
              "1          893       3  ...   NaN        S\n",
              "2          894       2  ...   NaN        Q\n",
              "3          895       3  ...   NaN        S\n",
              "4          896       3  ...   NaN        S\n",
              "\n",
              "[5 rows x 11 columns]"
            ]
          },
          "metadata": {
            "tags": []
          },
          "execution_count": 66
        }
      ]
    },
    {
      "cell_type": "markdown",
      "metadata": {
        "id": "2ls6VvkSnLjh",
        "colab_type": "text"
      },
      "source": [
        "**Data Dictionary:**<br/>\n",
        "*   Survived: Did the passenger survive, 0 = No, 1 = Yes. _**(Dependent Variable)**_<br/>\n",
        "*   Pclass:  Ticket class - 1 = Upper Class, 2 = Middle Class, 3 = Lower Class<br/>\n",
        "*   SibSp: # of siblings / spouses aboard the Titanic.<br/>\n",
        "*   Parch: # of parents / children aboard the Titanic.<br/>\n",
        "*   Ticket: Ticket number.<br/>\n",
        "*   Cabin: Cabin number.<br/>\n",
        "*   Embarked: Port of Embarkation, C = Cherbourg, Q = Queenstown, S = Southampton.<br/>"
      ]
    },
    {
      "cell_type": "code",
      "metadata": {
        "id": "OMh0BFtzbOt7",
        "colab_type": "code",
        "colab": {
          "base_uri": "https://localhost:8080/",
          "height": 35
        },
        "outputId": "f7b3f68f-b531-4ce3-f2ff-8a9348490e9d"
      },
      "source": [
        "train.shape"
      ],
      "execution_count": 67,
      "outputs": [
        {
          "output_type": "execute_result",
          "data": {
            "text/plain": [
              "(891, 12)"
            ]
          },
          "metadata": {
            "tags": []
          },
          "execution_count": 67
        }
      ]
    },
    {
      "cell_type": "code",
      "metadata": {
        "id": "j_naHKCjbOh_",
        "colab_type": "code",
        "colab": {
          "base_uri": "https://localhost:8080/",
          "height": 35
        },
        "outputId": "d3918adf-6277-4849-b673-c8dc5ec8b672"
      },
      "source": [
        "test.shape"
      ],
      "execution_count": 68,
      "outputs": [
        {
          "output_type": "execute_result",
          "data": {
            "text/plain": [
              "(418, 11)"
            ]
          },
          "metadata": {
            "tags": []
          },
          "execution_count": 68
        }
      ]
    },
    {
      "cell_type": "code",
      "metadata": {
        "id": "ptmMkjNymqVf",
        "colab_type": "code",
        "colab": {}
      },
      "source": [
        "# Merging both train and test dataset for EDA\n",
        "train['test_data'] = 0\n",
        "test['test_data'] = 1\n",
        "test['Survived'] = np.NaN\n",
        "\n",
        "df = pd.concat(objs=[train, test])"
      ],
      "execution_count": 69,
      "outputs": []
    },
    {
      "cell_type": "code",
      "metadata": {
        "id": "ESdYhgK7nGdq",
        "colab_type": "code",
        "colab": {
          "base_uri": "https://localhost:8080/",
          "height": 387
        },
        "outputId": "2d9f954b-3ecd-438f-eceb-347ed4acfb70"
      },
      "source": [
        "df.info()"
      ],
      "execution_count": 70,
      "outputs": [
        {
          "output_type": "stream",
          "text": [
            "<class 'pandas.core.frame.DataFrame'>\n",
            "Int64Index: 1309 entries, 0 to 417\n",
            "Data columns (total 13 columns):\n",
            " #   Column       Non-Null Count  Dtype  \n",
            "---  ------       --------------  -----  \n",
            " 0   PassengerId  1309 non-null   int64  \n",
            " 1   Survived     891 non-null    float64\n",
            " 2   Pclass       1309 non-null   int64  \n",
            " 3   Name         1309 non-null   object \n",
            " 4   Sex          1309 non-null   object \n",
            " 5   Age          1046 non-null   float64\n",
            " 6   SibSp        1309 non-null   int64  \n",
            " 7   Parch        1309 non-null   int64  \n",
            " 8   Ticket       1309 non-null   object \n",
            " 9   Fare         1308 non-null   float64\n",
            " 10  Cabin        295 non-null    object \n",
            " 11  Embarked     1307 non-null   object \n",
            " 12  test_data    1309 non-null   int64  \n",
            "dtypes: float64(3), int64(5), object(5)\n",
            "memory usage: 143.2+ KB\n"
          ],
          "name": "stdout"
        }
      ]
    },
    {
      "cell_type": "code",
      "metadata": {
        "id": "KtmCuTrYnZ0C",
        "colab_type": "code",
        "colab": {
          "base_uri": "https://localhost:8080/",
          "height": 276
        },
        "outputId": "61bafe4e-7877-45f6-f90f-3fc25efe6529"
      },
      "source": [
        "df.isnull().sum()"
      ],
      "execution_count": 71,
      "outputs": [
        {
          "output_type": "execute_result",
          "data": {
            "text/plain": [
              "PassengerId       0\n",
              "Survived        418\n",
              "Pclass            0\n",
              "Name              0\n",
              "Sex               0\n",
              "Age             263\n",
              "SibSp             0\n",
              "Parch             0\n",
              "Ticket            0\n",
              "Fare              1\n",
              "Cabin          1014\n",
              "Embarked          2\n",
              "test_data         0\n",
              "dtype: int64"
            ]
          },
          "metadata": {
            "tags": []
          },
          "execution_count": 71
        }
      ]
    },
    {
      "cell_type": "code",
      "metadata": {
        "id": "YvkPOnyaaYVS",
        "colab_type": "code",
        "colab": {
          "base_uri": "https://localhost:8080/",
          "height": 300
        },
        "outputId": "c1efee72-0577-4dbe-ef0b-654c189fb7cb"
      },
      "source": [
        "df.describe().T"
      ],
      "execution_count": 72,
      "outputs": [
        {
          "output_type": "execute_result",
          "data": {
            "text/html": [
              "<div>\n",
              "<style scoped>\n",
              "    .dataframe tbody tr th:only-of-type {\n",
              "        vertical-align: middle;\n",
              "    }\n",
              "\n",
              "    .dataframe tbody tr th {\n",
              "        vertical-align: top;\n",
              "    }\n",
              "\n",
              "    .dataframe thead th {\n",
              "        text-align: right;\n",
              "    }\n",
              "</style>\n",
              "<table border=\"1\" class=\"dataframe\">\n",
              "  <thead>\n",
              "    <tr style=\"text-align: right;\">\n",
              "      <th></th>\n",
              "      <th>count</th>\n",
              "      <th>mean</th>\n",
              "      <th>std</th>\n",
              "      <th>min</th>\n",
              "      <th>25%</th>\n",
              "      <th>50%</th>\n",
              "      <th>75%</th>\n",
              "      <th>max</th>\n",
              "    </tr>\n",
              "  </thead>\n",
              "  <tbody>\n",
              "    <tr>\n",
              "      <th>PassengerId</th>\n",
              "      <td>1309.0</td>\n",
              "      <td>655.000000</td>\n",
              "      <td>378.020061</td>\n",
              "      <td>1.00</td>\n",
              "      <td>328.0000</td>\n",
              "      <td>655.0000</td>\n",
              "      <td>982.000</td>\n",
              "      <td>1309.0000</td>\n",
              "    </tr>\n",
              "    <tr>\n",
              "      <th>Survived</th>\n",
              "      <td>891.0</td>\n",
              "      <td>0.383838</td>\n",
              "      <td>0.486592</td>\n",
              "      <td>0.00</td>\n",
              "      <td>0.0000</td>\n",
              "      <td>0.0000</td>\n",
              "      <td>1.000</td>\n",
              "      <td>1.0000</td>\n",
              "    </tr>\n",
              "    <tr>\n",
              "      <th>Pclass</th>\n",
              "      <td>1309.0</td>\n",
              "      <td>2.294882</td>\n",
              "      <td>0.837836</td>\n",
              "      <td>1.00</td>\n",
              "      <td>2.0000</td>\n",
              "      <td>3.0000</td>\n",
              "      <td>3.000</td>\n",
              "      <td>3.0000</td>\n",
              "    </tr>\n",
              "    <tr>\n",
              "      <th>Age</th>\n",
              "      <td>1046.0</td>\n",
              "      <td>29.881138</td>\n",
              "      <td>14.413493</td>\n",
              "      <td>0.17</td>\n",
              "      <td>21.0000</td>\n",
              "      <td>28.0000</td>\n",
              "      <td>39.000</td>\n",
              "      <td>80.0000</td>\n",
              "    </tr>\n",
              "    <tr>\n",
              "      <th>SibSp</th>\n",
              "      <td>1309.0</td>\n",
              "      <td>0.498854</td>\n",
              "      <td>1.041658</td>\n",
              "      <td>0.00</td>\n",
              "      <td>0.0000</td>\n",
              "      <td>0.0000</td>\n",
              "      <td>1.000</td>\n",
              "      <td>8.0000</td>\n",
              "    </tr>\n",
              "    <tr>\n",
              "      <th>Parch</th>\n",
              "      <td>1309.0</td>\n",
              "      <td>0.385027</td>\n",
              "      <td>0.865560</td>\n",
              "      <td>0.00</td>\n",
              "      <td>0.0000</td>\n",
              "      <td>0.0000</td>\n",
              "      <td>0.000</td>\n",
              "      <td>9.0000</td>\n",
              "    </tr>\n",
              "    <tr>\n",
              "      <th>Fare</th>\n",
              "      <td>1308.0</td>\n",
              "      <td>33.295479</td>\n",
              "      <td>51.758668</td>\n",
              "      <td>0.00</td>\n",
              "      <td>7.8958</td>\n",
              "      <td>14.4542</td>\n",
              "      <td>31.275</td>\n",
              "      <td>512.3292</td>\n",
              "    </tr>\n",
              "    <tr>\n",
              "      <th>test_data</th>\n",
              "      <td>1309.0</td>\n",
              "      <td>0.319328</td>\n",
              "      <td>0.466394</td>\n",
              "      <td>0.00</td>\n",
              "      <td>0.0000</td>\n",
              "      <td>0.0000</td>\n",
              "      <td>1.000</td>\n",
              "      <td>1.0000</td>\n",
              "    </tr>\n",
              "  </tbody>\n",
              "</table>\n",
              "</div>"
            ],
            "text/plain": [
              "              count        mean         std  ...       50%      75%        max\n",
              "PassengerId  1309.0  655.000000  378.020061  ...  655.0000  982.000  1309.0000\n",
              "Survived      891.0    0.383838    0.486592  ...    0.0000    1.000     1.0000\n",
              "Pclass       1309.0    2.294882    0.837836  ...    3.0000    3.000     3.0000\n",
              "Age          1046.0   29.881138   14.413493  ...   28.0000   39.000    80.0000\n",
              "SibSp        1309.0    0.498854    1.041658  ...    0.0000    1.000     8.0000\n",
              "Parch        1309.0    0.385027    0.865560  ...    0.0000    0.000     9.0000\n",
              "Fare         1308.0   33.295479   51.758668  ...   14.4542   31.275   512.3292\n",
              "test_data    1309.0    0.319328    0.466394  ...    0.0000    1.000     1.0000\n",
              "\n",
              "[8 rows x 8 columns]"
            ]
          },
          "metadata": {
            "tags": []
          },
          "execution_count": 72
        }
      ]
    },
    {
      "cell_type": "code",
      "metadata": {
        "id": "kw5PkawDeLIs",
        "colab_type": "code",
        "colab": {
          "base_uri": "https://localhost:8080/",
          "height": 1000
        },
        "outputId": "4fc2e706-5467-4111-d0e5-4dc262895ca4"
      },
      "source": [
        "# Plotting histograms for numeric features to understand distributions\n",
        "numeric_columns = ['Age', 'SibSp', 'Parch', 'Fare']\n",
        "for column in numeric_columns:\n",
        "  plt.figure(figsize=(5,5))\n",
        "  plt.hist(df[column])\n",
        "  plt.title(column)\n",
        "  plt.show()"
      ],
      "execution_count": 73,
      "outputs": [
        {
          "output_type": "stream",
          "text": [
            "/usr/local/lib/python3.6/dist-packages/numpy/lib/histograms.py:839: RuntimeWarning: invalid value encountered in greater_equal\n",
            "  keep = (tmp_a >= first_edge)\n",
            "/usr/local/lib/python3.6/dist-packages/numpy/lib/histograms.py:840: RuntimeWarning: invalid value encountered in less_equal\n",
            "  keep &= (tmp_a <= last_edge)\n"
          ],
          "name": "stderr"
        },
        {
          "output_type": "display_data",
          "data": {
            "image/png": "[encoded data removed]",
            "text/plain": [
              "<Figure size 360x360 with 1 Axes>"
            ]
          },
          "metadata": {
            "tags": [],
            "needs_background": "light"
          }
        },
        {
          "output_type": "display_data",
          "data": {
            "image/png": "[encoded data removed]",
            "text/plain": [
              "<Figure size 360x360 with 1 Axes>"
            ]
          },
          "metadata": {
            "tags": [],
            "needs_background": "light"
          }
        },
        {
          "output_type": "display_data",
          "data": {
            "image/png": "[encoded data removed]",
            "text/plain": [
              "<Figure size 360x360 with 1 Axes>"
            ]
          },
          "metadata": {
            "tags": [],
            "needs_background": "light"
          }
        },
        {
          "output_type": "display_data",
          "data": {
            "image/png": "[encoded data removed]",
            "text/plain": [
              "<Figure size 360x360 with 1 Axes>"
            ]
          },
          "metadata": {
            "tags": [],
            "needs_background": "light"
          }
        }
      ]
    },
    {
      "cell_type": "markdown",
      "metadata": {
        "id": "21_u0wbahJAd",
        "colab_type": "text"
      },
      "source": [
        "_**Insight:** Only Age feature follows standard normal distribution._"
      ]
    },
    {
      "cell_type": "code",
      "metadata": {
        "id": "SXY3zOhmeVK9",
        "colab_type": "code",
        "colab": {
          "base_uri": "https://localhost:8080/",
          "height": 1000
        },
        "outputId": "277a5f0b-d760-4131-d94a-87df7a138cdd"
      },
      "source": [
        "# Plotting countplots for categorical features\n",
        "categorical_columns = ['Survived', 'Pclass', 'Sex', 'Cabin', 'Embarked']\n",
        "for column in categorical_columns:\n",
        "  plt.figure(figsize=(7,5))\n",
        "  sns.countplot(x=df[column])\n",
        "  plt.title(column)\n",
        "  plt.show()"
      ],
      "execution_count": 74,
      "outputs": [
        {
          "output_type": "display_data",
          "data": {
            "image/png": "[encoded data removed]",
            "text/plain": [
              "<Figure size 504x360 with 1 Axes>"
            ]
          },
          "metadata": {
            "tags": [],
            "needs_background": "light"
          }
        },
        {
          "output_type": "display_data",
          "data": {
            "image/png": "[encoded data removed]",
            "text/plain": [
              "<Figure size 504x360 with 1 Axes>"
            ]
          },
          "metadata": {
            "tags": [],
            "needs_background": "light"
          }
        },
        {
          "output_type": "display_data",
          "data": {
            "image/png": "[encoded data removed]",
            "text/plain": [
              "<Figure size 504x360 with 1 Axes>"
            ]
          },
          "metadata": {
            "tags": [],
            "needs_background": "light"
          }
        },
        {
          "output_type": "display_data",
          "data": {
            "image/png": "[encoded data removed]",
            "text/plain": [
              "<Figure size 504x360 with 1 Axes>"
            ]
          },
          "metadata": {
            "tags": [],
            "needs_background": "light"
          }
        },
        {
          "output_type": "display_data",
          "data": {
            "image/png": "[encoded data removed]",
            "text/plain": [
              "<Figure size 504x360 with 1 Axes>"
            ]
          },
          "metadata": {
            "tags": [],
            "needs_background": "light"
          }
        }
      ]
    },
    {
      "cell_type": "code",
      "metadata": {
        "id": "DAj3LxBtqDZ7",
        "colab_type": "code",
        "colab": {
          "base_uri": "https://localhost:8080/",
          "height": 534
        },
        "outputId": "da59d284-3ea4-40e8-bccb-26c7232fe86a"
      },
      "source": [
        "# How Titanic ship sank?\n",
        "from IPython.display import Image\n",
        "Image(url= \"https://static1.squarespace.com/static/5006453fe4b09ef2252ba068/t/5090b249e4b047ba54dfd258/1351660113175/TItanic-Survival-Infographic.jpg?format=1000w\")"
      ],
      "execution_count": 75,
      "outputs": [
        {
          "output_type": "execute_result",
          "data": {
            "text/html": [
              "<img src=\"https://static1.squarespace.com/static/5006453fe4b09ef2252ba068/t/5090b249e4b047ba54dfd258/1351660113175/TItanic-Survival-Infographic.jpg?format=1000w\"/>"
            ],
            "text/plain": [
              "<IPython.core.display.Image object>"
            ]
          },
          "metadata": {
            "tags": []
          },
          "execution_count": 75
        }
      ]
    },
    {
      "cell_type": "code",
      "metadata": {
        "id": "U0z7TTdOcjbF",
        "colab_type": "code",
        "colab": {}
      },
      "source": [
        "def bar_chart(feature):\n",
        "  survived = df[(df.test_data == 0) & (df['Survived'] == 1)][feature].value_counts()\n",
        "  dead = df[(df.test_data == 0) & (df['Survived'] == 0)][feature].value_counts()\n",
        "  temp_df = pd.DataFrame([survived,dead])\n",
        "  temp_df.index = ['Survived','Dead']\n",
        "  temp_df.plot(kind='bar', stacked=True, figsize=(10,5))"
      ],
      "execution_count": 76,
      "outputs": []
    },
    {
      "cell_type": "code",
      "metadata": {
        "id": "-G3aGvl6hDOT",
        "colab_type": "code",
        "colab": {
          "base_uri": "https://localhost:8080/",
          "height": 361
        },
        "outputId": "bfea146f-6d9d-4d86-92f6-1a6d3a8b3601"
      },
      "source": [
        "bar_chart('Pclass')"
      ],
      "execution_count": 77,
      "outputs": [
        {
          "output_type": "display_data",
          "data": {
            "image/png": "[encoded data removed]",
            "text/plain": [
              "<Figure size 720x360 with 1 Axes>"
            ]
          },
          "metadata": {
            "tags": [],
            "needs_background": "light"
          }
        }
      ]
    },
    {
      "cell_type": "markdown",
      "metadata": {
        "id": "wURoai9fhJA5",
        "colab_type": "text"
      },
      "source": [
        "_**Insight:** Above chart confirms that people from **1st Class have survived more** and people from **3rd Class have died the most.**_"
      ]
    },
    {
      "cell_type": "code",
      "metadata": {
        "id": "nzvsFqDQdNyc",
        "colab_type": "code",
        "colab": {
          "base_uri": "https://localhost:8080/",
          "height": 361
        },
        "outputId": "3527934f-9ba5-47ce-df3c-00b52a7d283d"
      },
      "source": [
        "bar_chart('Sex')"
      ],
      "execution_count": 78,
      "outputs": [
        {
          "output_type": "display_data",
          "data": {
            "image/png": "[encoded data removed]",
            "text/plain": [
              "<Figure size 720x360 with 1 Axes>"
            ]
          },
          "metadata": {
            "tags": [],
            "needs_background": "light"
          }
        }
      ]
    },
    {
      "cell_type": "markdown",
      "metadata": {
        "colab_type": "text",
        "id": "cX5JcoESht4k"
      },
      "source": [
        "_**Insight:** Above chart confirms that **Women have survived more** as compared men, and **Men have died more** than women._"
      ]
    },
    {
      "cell_type": "code",
      "metadata": {
        "id": "y70mQ1_giT8u",
        "colab_type": "code",
        "colab": {
          "base_uri": "https://localhost:8080/",
          "height": 361
        },
        "outputId": "6dede5f8-55d5-438a-f5d0-0a8c61e63cfc"
      },
      "source": [
        "bar_chart('Embarked')"
      ],
      "execution_count": 79,
      "outputs": [
        {
          "output_type": "display_data",
          "data": {
            "image/png": "[encoded data removed]",
            "text/plain": [
              "<Figure size 720x360 with 1 Axes>"
            ]
          },
          "metadata": {
            "tags": [],
            "needs_background": "light"
          }
        }
      ]
    },
    {
      "cell_type": "markdown",
      "metadata": {
        "colab_type": "text",
        "id": "O9pTIpxjic8R"
      },
      "source": [
        "_**Insight:** Above chart confirms that **people from Southampton and Queenstown have died more**, and **people from Cherbourg have approx. 50% chance of survival**._"
      ]
    },
    {
      "cell_type": "code",
      "metadata": {
        "id": "DeT5S6nviVSS",
        "colab_type": "code",
        "colab": {
          "base_uri": "https://localhost:8080/",
          "height": 361
        },
        "outputId": "15e9ef86-fd30-4bc9-b606-92ceab60fdf8"
      },
      "source": [
        "bar_chart('SibSp')"
      ],
      "execution_count": 80,
      "outputs": [
        {
          "output_type": "display_data",
          "data": {
            "image/png": "[encoded data removed]",
            "text/plain": [
              "<Figure size 720x360 with 1 Axes>"
            ]
          },
          "metadata": {
            "tags": [],
            "needs_background": "light"
          }
        }
      ]
    },
    {
      "cell_type": "markdown",
      "metadata": {
        "colab_type": "text",
        "id": "k-8BPUx7jPD0"
      },
      "source": [
        "_**Insight:** Above chart confirms that people with **No Siblings / Spouse are more likely to die**, people with **1 Siblings / Spouse** have **equal chances of survival and death**, and people with **2 or more Siblings / Spouse are more likely to die**._"
      ]
    },
    {
      "cell_type": "code",
      "metadata": {
        "id": "TFzgWqyYjdXh",
        "colab_type": "code",
        "colab": {
          "base_uri": "https://localhost:8080/",
          "height": 361
        },
        "outputId": "06f0f90b-fa3f-4112-91c4-074014810256"
      },
      "source": [
        "bar_chart('Parch')"
      ],
      "execution_count": 81,
      "outputs": [
        {
          "output_type": "display_data",
          "data": {
            "image/png": "[encoded data removed]",
            "text/plain": [
              "<Figure size 720x360 with 1 Axes>"
            ]
          },
          "metadata": {
            "tags": [],
            "needs_background": "light"
          }
        }
      ]
    },
    {
      "cell_type": "markdown",
      "metadata": {
        "colab_type": "text",
        "id": "jtVDL7mbjocO"
      },
      "source": [
        "_**Insight:** Above chart confirms that people with **No Parents / Childrens are more likely to die**, people with **1 or 2 Parents / Childrens** have **equal chances of survival and death**, and people with **3 or more Parents / Childrens are more likely to die**._"
      ]
    },
    {
      "cell_type": "markdown",
      "metadata": {
        "id": "C5C5HziCU9Il",
        "colab_type": "text"
      },
      "source": [
        "## Feature Engineering"
      ]
    },
    {
      "cell_type": "code",
      "metadata": {
        "id": "cOIS4cUlVAaE",
        "colab_type": "code",
        "colab": {
          "base_uri": "https://localhost:8080/",
          "height": 368
        },
        "outputId": "2f423f57-c56a-4378-d390-c5bb6acd36d1"
      },
      "source": [
        "# Creating a new column of 'name_title' from 'Name' feature\n",
        "# Sample name: Braund, Mr. Owen Harris\n",
        "df['name_title'] = df['Name'].apply(lambda x: x.split(',')[1].split('.')[0].strip())\n",
        "df['name_title'].value_counts()"
      ],
      "execution_count": 82,
      "outputs": [
        {
          "output_type": "execute_result",
          "data": {
            "text/plain": [
              "Mr              757\n",
              "Miss            260\n",
              "Mrs             197\n",
              "Master           61\n",
              "Rev               8\n",
              "Dr                8\n",
              "Col               4\n",
              "Ms                2\n",
              "Major             2\n",
              "Mlle              2\n",
              "Jonkheer          1\n",
              "Don               1\n",
              "Lady              1\n",
              "Capt              1\n",
              "the Countess      1\n",
              "Sir               1\n",
              "Mme               1\n",
              "Dona              1\n",
              "Name: name_title, dtype: int64"
            ]
          },
          "metadata": {
            "tags": []
          },
          "execution_count": 82
        }
      ]
    },
    {
      "cell_type": "markdown",
      "metadata": {
        "id": "Xx6t2XgeqOW1",
        "colab_type": "text"
      },
      "source": [
        "_**Note:** Keeping the top 4 titles and converting rest to another category of 'Other'._"
      ]
    },
    {
      "cell_type": "code",
      "metadata": {
        "id": "bpub9LfxVAT6",
        "colab_type": "code",
        "colab": {
          "base_uri": "https://localhost:8080/",
          "height": 128
        },
        "outputId": "a2601e20-85cf-4cd0-cb2e-2dbd660b4de2"
      },
      "source": [
        "most_frequent_titles = ['Mr', 'Miss', 'Mrs', 'Master'] \n",
        "df['name_title'] = df['name_title'].apply(lambda x: x if x in most_frequent_titles else 'Other')\n",
        "df['name_title'].value_counts()"
      ],
      "execution_count": 83,
      "outputs": [
        {
          "output_type": "execute_result",
          "data": {
            "text/plain": [
              "Mr        757\n",
              "Miss      260\n",
              "Mrs       197\n",
              "Master     61\n",
              "Other      34\n",
              "Name: name_title, dtype: int64"
            ]
          },
          "metadata": {
            "tags": []
          },
          "execution_count": 83
        }
      ]
    },
    {
      "cell_type": "code",
      "metadata": {
        "id": "cDwQ4YKxq_Jk",
        "colab_type": "code",
        "colab": {
          "base_uri": "https://localhost:8080/",
          "height": 361
        },
        "outputId": "353ab2d0-fd64-4cef-cdc5-ea013b6daac1"
      },
      "source": [
        "bar_chart('name_title')"
      ],
      "execution_count": 84,
      "outputs": [
        {
          "output_type": "display_data",
          "data": {
            "image/png": "[encoded data removed]",
            "text/plain": [
              "<Figure size 720x360 with 1 Axes>"
            ]
          },
          "metadata": {
            "tags": [],
            "needs_background": "light"
          }
        }
      ]
    },
    {
      "cell_type": "markdown",
      "metadata": {
        "colab_type": "text",
        "id": "47BkyivSsDZd"
      },
      "source": [
        "_**Insight:** Above chart confirms that people having **Miss and Mrs titles have high chance of survival**, people having **Mr title have high chance of dying**, and people having **Master and Other titles have approx. 50% probability of suvival.**_"
      ]
    },
    {
      "cell_type": "code",
      "metadata": {
        "id": "-lNSL7ZYj7aG",
        "colab_type": "code",
        "colab": {
          "base_uri": "https://localhost:8080/",
          "height": 202
        },
        "outputId": "4cd80bd3-119c-4ebc-9a40-59053848c5ec"
      },
      "source": [
        "# Creating a new column of 'cabin_init' from 'Cabin' feature assuming same initials are clustered togeather\n",
        "# Sample Cabin: C23\n",
        "df['cabin_init'] = df['Cabin'].apply(lambda x: str(x)[0])\n",
        "df['cabin_init'].value_counts()"
      ],
      "execution_count": 85,
      "outputs": [
        {
          "output_type": "execute_result",
          "data": {
            "text/plain": [
              "n    1014\n",
              "C      94\n",
              "B      65\n",
              "D      46\n",
              "E      41\n",
              "A      22\n",
              "F      21\n",
              "G       5\n",
              "T       1\n",
              "Name: cabin_init, dtype: int64"
            ]
          },
          "metadata": {
            "tags": []
          },
          "execution_count": 85
        }
      ]
    },
    {
      "cell_type": "code",
      "metadata": {
        "id": "kyYPS3Gzj7XE",
        "colab_type": "code",
        "colab": {
          "base_uri": "https://localhost:8080/",
          "height": 361
        },
        "outputId": "653d971d-6b6e-4b56-fa89-3a609c873991"
      },
      "source": [
        "bar_chart('cabin_init')"
      ],
      "execution_count": 86,
      "outputs": [
        {
          "output_type": "display_data",
          "data": {
            "image/png": "[encoded data removed]",
            "text/plain": [
              "<Figure size 720x360 with 1 Axes>"
            ]
          },
          "metadata": {
            "tags": [],
            "needs_background": "light"
          }
        }
      ]
    },
    {
      "cell_type": "markdown",
      "metadata": {
        "colab_type": "text",
        "id": "eu-juPd3l8gL"
      },
      "source": [
        "_**Insight:** Above chart confirms that people from **Unknown cabins(missing values) have high chance of dying**, and people from **B, C, D, and E cabins have high chance of surviving**._"
      ]
    },
    {
      "cell_type": "code",
      "metadata": {
        "id": "DYX74l7jnSWs",
        "colab_type": "code",
        "colab": {
          "base_uri": "https://localhost:8080/",
          "height": 72
        },
        "outputId": "008529b3-b571-49b4-f964-5b08fd7c166d"
      },
      "source": [
        "# Creating a new column of 'ticket_numeric' from 'Ticket' feature\n",
        "# Sample Ticket: 112053 and PC 17603\n",
        "df['ticket_numeric'] = df['Ticket'].apply(lambda x: 1 if x.isnumeric() else 0)\n",
        "df['ticket_numeric'].value_counts()"
      ],
      "execution_count": 87,
      "outputs": [
        {
          "output_type": "execute_result",
          "data": {
            "text/plain": [
              "1    957\n",
              "0    352\n",
              "Name: ticket_numeric, dtype: int64"
            ]
          },
          "metadata": {
            "tags": []
          },
          "execution_count": 87
        }
      ]
    },
    {
      "cell_type": "code",
      "metadata": {
        "id": "6_WQCKFgnR8o",
        "colab_type": "code",
        "colab": {
          "base_uri": "https://localhost:8080/",
          "height": 361
        },
        "outputId": "25987df4-f8db-49da-c399-a3ed4fd596cc"
      },
      "source": [
        "bar_chart('ticket_numeric')"
      ],
      "execution_count": 88,
      "outputs": [
        {
          "output_type": "display_data",
          "data": {
            "image/png": "[encoded data removed]",
            "text/plain": [
              "<Figure size 720x360 with 1 Axes>"
            ]
          },
          "metadata": {
            "tags": [],
            "needs_background": "light"
          }
        }
      ]
    },
    {
      "cell_type": "markdown",
      "metadata": {
        "colab_type": "text",
        "id": "2_eYikcwolO5"
      },
      "source": [
        "_**Insight:** Not much useful insight generated._"
      ]
    },
    {
      "cell_type": "markdown",
      "metadata": {
        "id": "SaEJqKFKP5zk",
        "colab_type": "text"
      },
      "source": [
        "## Data Preprocessing\n",
        "\n",
        "*   **Data Cleaning**\n",
        "*   Handling categorical features\n",
        "*   **Feature Selection**\n",
        "*   Splitting the dataset into train set and validation set\n",
        "*   **Feature Scaling**\n",
        "\n"
      ]
    },
    {
      "cell_type": "markdown",
      "metadata": {
        "id": "dT8nc-XsoUZq",
        "colab_type": "text"
      },
      "source": [
        "### Data Cleaning\n",
        "*   Removing unwanted features/columns<br/>\n",
        "*   Handling missing/NaN values<br/>\n",
        "\n"
      ]
    },
    {
      "cell_type": "code",
      "metadata": {
        "id": "MljlLOd7o-Wc",
        "colab_type": "code",
        "colab": {
          "base_uri": "https://localhost:8080/",
          "height": 91
        },
        "outputId": "2365b2c2-c5a8-4375-de68-9699ce3d13a6"
      },
      "source": [
        "df.columns"
      ],
      "execution_count": 89,
      "outputs": [
        {
          "output_type": "execute_result",
          "data": {
            "text/plain": [
              "Index(['PassengerId', 'Survived', 'Pclass', 'Name', 'Sex', 'Age', 'SibSp',\n",
              "       'Parch', 'Ticket', 'Fare', 'Cabin', 'Embarked', 'test_data',\n",
              "       'name_title', 'cabin_init', 'ticket_numeric'],\n",
              "      dtype='object')"
            ]
          },
          "metadata": {
            "tags": []
          },
          "execution_count": 89
        }
      ]
    },
    {
      "cell_type": "code",
      "metadata": {
        "id": "UImSxcTxoa4S",
        "colab_type": "code",
        "colab": {
          "base_uri": "https://localhost:8080/",
          "height": 54
        },
        "outputId": "599abf20-e512-4ec9-a986-e9902285bd72"
      },
      "source": [
        "# Removing column(s) that don't provide any significant insights\n",
        "print(\"Before removing the unwanted columns: {}\".format(df.shape))\n",
        "df.drop(labels=['PassengerId', 'Name', 'Cabin', 'Ticket'], axis=1, inplace=True)\n",
        "print(\"After removing the unwanted columns: {}\".format(df.shape))"
      ],
      "execution_count": 90,
      "outputs": [
        {
          "output_type": "stream",
          "text": [
            "Before removing the unwanted columns: (1309, 16)\n",
            "After removing the unwanted columns: (1309, 12)\n"
          ],
          "name": "stdout"
        }
      ]
    },
    {
      "cell_type": "code",
      "metadata": {
        "id": "YGd8p83zp39P",
        "colab_type": "code",
        "colab": {
          "base_uri": "https://localhost:8080/",
          "height": 257
        },
        "outputId": "a5845654-5352-4704-e167-7a12e0ec2ff9"
      },
      "source": [
        "df.isnull().sum()"
      ],
      "execution_count": 91,
      "outputs": [
        {
          "output_type": "execute_result",
          "data": {
            "text/plain": [
              "Survived          418\n",
              "Pclass              0\n",
              "Sex                 0\n",
              "Age               263\n",
              "SibSp               0\n",
              "Parch               0\n",
              "Fare                1\n",
              "Embarked            2\n",
              "test_data           0\n",
              "name_title          0\n",
              "cabin_init          0\n",
              "ticket_numeric      0\n",
              "dtype: int64"
            ]
          },
          "metadata": {
            "tags": []
          },
          "execution_count": 91
        }
      ]
    },
    {
      "cell_type": "markdown",
      "metadata": {
        "id": "i_a_sexeqX4j",
        "colab_type": "text"
      },
      "source": [
        "_**Note:** For 'Age' feature/column, we need to visualize it's distribution and find out if the outliers are present in the feature or not. If yes, then it is better to go with the **median** as it reduces the effect of outlier. If no, then **mean** can be considered._\n",
        "\n",
        "\n"
      ]
    },
    {
      "cell_type": "code",
      "metadata": {
        "id": "P63HOVAjpd2x",
        "colab_type": "code",
        "colab": {
          "base_uri": "https://localhost:8080/",
          "height": 447
        },
        "outputId": "e5e29027-e120-4f23-f54f-434198f61efe"
      },
      "source": [
        "# Plotting histogram for 'Age'\n",
        "plt.figure(figsize=(5,5))\n",
        "plt.hist(x=df['Age'], bins=10, histtype='bar', orientation='vertical')\n",
        "plt.xlabel('Age (in years)')\n",
        "plt.ylabel('Frequency')\n",
        "plt.title('Histogram for Age feature')"
      ],
      "execution_count": 92,
      "outputs": [
        {
          "output_type": "stream",
          "text": [
            "/usr/local/lib/python3.6/dist-packages/numpy/lib/histograms.py:839: RuntimeWarning: invalid value encountered in greater_equal\n",
            "  keep = (tmp_a >= first_edge)\n",
            "/usr/local/lib/python3.6/dist-packages/numpy/lib/histograms.py:840: RuntimeWarning: invalid value encountered in less_equal\n",
            "  keep &= (tmp_a <= last_edge)\n"
          ],
          "name": "stderr"
        },
        {
          "output_type": "execute_result",
          "data": {
            "text/plain": [
              "Text(0.5, 1.0, 'Histogram for Age feature')"
            ]
          },
          "metadata": {
            "tags": []
          },
          "execution_count": 92
        },
        {
          "output_type": "display_data",
          "data": {
            "image/png": "[encoded data removed]",
            "text/plain": [
              "<Figure size 360x360 with 1 Axes>"
            ]
          },
          "metadata": {
            "tags": [],
            "needs_background": "light"
          }
        }
      ]
    },
    {
      "cell_type": "code",
      "metadata": {
        "id": "gZbhZQ7FuCDj",
        "colab_type": "code",
        "colab": {
          "base_uri": "https://localhost:8080/",
          "height": 373
        },
        "outputId": "6b723aef-6960-4081-d7e3-fe403e8a6faf"
      },
      "source": [
        "# Plotting boxplot for 'Age'\n",
        "plt.figure(figsize=(5,5))\n",
        "sns.set(style=\"whitegrid\")\n",
        "ax = sns.boxplot(x='Survived', y='Age', hue='Survived', data=df, palette='Set2')\n",
        "plt.ylabel('Age (in years)')\n",
        "plt.title('Histogram for Age feature')"
      ],
      "execution_count": 93,
      "outputs": [
        {
          "output_type": "execute_result",
          "data": {
            "text/plain": [
              "Text(0.5, 1.0, 'Histogram for Age feature')"
            ]
          },
          "metadata": {
            "tags": []
          },
          "execution_count": 93
        },
        {
          "output_type": "display_data",
          "data": {
            "image/png": "[encoded data removed]",
            "text/plain": [
              "<Figure size 360x360 with 1 Axes>"
            ]
          },
          "metadata": {
            "tags": [],
            "needs_background": "light"
          }
        }
      ]
    },
    {
      "cell_type": "code",
      "metadata": {
        "id": "zXpTitT1v_76",
        "colab_type": "code",
        "colab": {
          "base_uri": "https://localhost:8080/",
          "height": 54
        },
        "outputId": "d7a47656-efb6-4df0-f0e6-996b4b4e5298"
      },
      "source": [
        "# Replacing the NaN values by median of the 'Age'\n",
        "print('Number of NaN values before: {}'.format(df['Age'].isnull().sum()))\n",
        "df['Age'].fillna(df['Age'].median(), inplace=True)\n",
        "print('Number of NaN values after: {}'.format(df['Age'].isnull().sum()))"
      ],
      "execution_count": 94,
      "outputs": [
        {
          "output_type": "stream",
          "text": [
            "Number of NaN values before: 263\n",
            "Number of NaN values after: 0\n"
          ],
          "name": "stdout"
        }
      ]
    },
    {
      "cell_type": "markdown",
      "metadata": {
        "id": "8hTqcoIBNJYk",
        "colab_type": "text"
      },
      "source": [
        "_**Note:** For 'Embarked' feature/column, since it is a **categorical feature** there are following techniques to fill NaN/missing values, and they are as follows:_\n",
        "1.   Deleting the NaN/missing rows\n",
        "2.   Replace NaN with most frequent value\n",
        "3.   Apply classifying algorithm for predicting the values\n",
        "4.   Apply unsupervised machine learning algorithms like: K-Means, Hierarchical clustering\n",
        "\n",
        "\n",
        "\n",
        "\n",
        "\n",
        "\n",
        "\n",
        "\n",
        "\n"
      ]
    },
    {
      "cell_type": "code",
      "metadata": {
        "id": "Wnrq6tC3Lvmf",
        "colab_type": "code",
        "colab": {
          "base_uri": "https://localhost:8080/",
          "height": 339
        },
        "outputId": "82e36aaa-cc9c-498b-c4f2-c9cad9ff9404"
      },
      "source": [
        "# Plotting countplot for Embarked column\n",
        "plt.figure(figsize=(7,5))\n",
        "sns.countplot(x='Embarked', data=df)\n",
        "\n",
        "# Removing the unwanted spines\n",
        "plt.gca().spines['top'].set_visible(False)\n",
        "plt.gca().spines['right'].set_visible(False)\n",
        "\n",
        "# Headings\n",
        "plt.xlabel('Port of Embarkation')\n",
        "plt.ylabel('Count')\n",
        "plt.show()"
      ],
      "execution_count": 95,
      "outputs": [
        {
          "output_type": "display_data",
          "data": {
            "image/png": "[encoded data removed]",
            "text/plain": [
              "<Figure size 504x360 with 1 Axes>"
            ]
          },
          "metadata": {
            "tags": []
          }
        }
      ]
    },
    {
      "cell_type": "code",
      "metadata": {
        "id": "macf9FAWPVKA",
        "colab_type": "code",
        "colab": {
          "base_uri": "https://localhost:8080/",
          "height": 54
        },
        "outputId": "c6bfe743-4cae-48df-b30c-b4664fbb1899"
      },
      "source": [
        "# Using method 2: Replace NaN with most frequent value\n",
        "print('Number of NaN values before: {}'.format(df['Embarked'].isnull().sum()))\n",
        "df['Embarked'].fillna('S', inplace=True)\n",
        "print('Number of NaN values after: {}'.format(df['Embarked'].isnull().sum()))"
      ],
      "execution_count": 96,
      "outputs": [
        {
          "output_type": "stream",
          "text": [
            "Number of NaN values before: 2\n",
            "Number of NaN values after: 0\n"
          ],
          "name": "stdout"
        }
      ]
    },
    {
      "cell_type": "code",
      "metadata": {
        "id": "3GiPc5RsqIbE",
        "colab_type": "code",
        "colab": {
          "base_uri": "https://localhost:8080/",
          "height": 373
        },
        "outputId": "f3d212a0-131f-4111-e289-376e6ea409da"
      },
      "source": [
        "# Plotting boxplot for 'Fare'\n",
        "plt.figure(figsize=(5,5))\n",
        "sns.set(style=\"whitegrid\")\n",
        "ax = sns.boxplot(x='Survived', y='Fare', hue='Survived', data=df, palette='Set2')\n",
        "plt.ylabel('Fare (in $)')\n",
        "plt.title('Histogram for Fare feature')"
      ],
      "execution_count": 97,
      "outputs": [
        {
          "output_type": "execute_result",
          "data": {
            "text/plain": [
              "Text(0.5, 1.0, 'Histogram for Fare feature')"
            ]
          },
          "metadata": {
            "tags": []
          },
          "execution_count": 97
        },
        {
          "output_type": "display_data",
          "data": {
            "image/png": "[encoded data removed]",
            "text/plain": [
              "<Figure size 360x360 with 1 Axes>"
            ]
          },
          "metadata": {
            "tags": []
          }
        }
      ]
    },
    {
      "cell_type": "code",
      "metadata": {
        "id": "LT03aI2kp79-",
        "colab_type": "code",
        "colab": {
          "base_uri": "https://localhost:8080/",
          "height": 54
        },
        "outputId": "d5a72c66-47b5-4aff-a55a-2a2d0ec37a10"
      },
      "source": [
        "# Using meadian to replace NaN value in 'Fare' feature\n",
        "print('Number of NaN values before: {}'.format(df['Fare'].isnull().sum()))\n",
        "df['Fare'].fillna(df['Fare'].median(), inplace=True)\n",
        "print('Number of NaN values after: {}'.format(df['Fare'].isnull().sum()))"
      ],
      "execution_count": 98,
      "outputs": [
        {
          "output_type": "stream",
          "text": [
            "Number of NaN values before: 1\n",
            "Number of NaN values after: 0\n"
          ],
          "name": "stdout"
        }
      ]
    },
    {
      "cell_type": "code",
      "metadata": {
        "id": "V03MnIT1PyQ-",
        "colab_type": "code",
        "colab": {
          "base_uri": "https://localhost:8080/",
          "height": 257
        },
        "outputId": "dfc98479-4631-4fa7-f960-f7736408f612"
      },
      "source": [
        "df.isnull().sum()"
      ],
      "execution_count": 99,
      "outputs": [
        {
          "output_type": "execute_result",
          "data": {
            "text/plain": [
              "Survived          418\n",
              "Pclass              0\n",
              "Sex                 0\n",
              "Age                 0\n",
              "SibSp               0\n",
              "Parch               0\n",
              "Fare                0\n",
              "Embarked            0\n",
              "test_data           0\n",
              "name_title          0\n",
              "cabin_init          0\n",
              "ticket_numeric      0\n",
              "dtype: int64"
            ]
          },
          "metadata": {
            "tags": []
          },
          "execution_count": 99
        }
      ]
    },
    {
      "cell_type": "code",
      "metadata": {
        "id": "g50SWTbWP27X",
        "colab_type": "code",
        "colab": {
          "base_uri": "https://localhost:8080/",
          "height": 206
        },
        "outputId": "479b8845-4fc4-4338-fc05-9a142ea23360"
      },
      "source": [
        "df.head(n=5)"
      ],
      "execution_count": 100,
      "outputs": [
        {
          "output_type": "execute_result",
          "data": {
            "text/html": [
              "<div>\n",
              "<style scoped>\n",
              "    .dataframe tbody tr th:only-of-type {\n",
              "        vertical-align: middle;\n",
              "    }\n",
              "\n",
              "    .dataframe tbody tr th {\n",
              "        vertical-align: top;\n",
              "    }\n",
              "\n",
              "    .dataframe thead th {\n",
              "        text-align: right;\n",
              "    }\n",
              "</style>\n",
              "<table border=\"1\" class=\"dataframe\">\n",
              "  <thead>\n",
              "    <tr style=\"text-align: right;\">\n",
              "      <th></th>\n",
              "      <th>Survived</th>\n",
              "      <th>Pclass</th>\n",
              "      <th>Sex</th>\n",
              "      <th>Age</th>\n",
              "      <th>SibSp</th>\n",
              "      <th>Parch</th>\n",
              "      <th>Fare</th>\n",
              "      <th>Embarked</th>\n",
              "      <th>test_data</th>\n",
              "      <th>name_title</th>\n",
              "      <th>cabin_init</th>\n",
              "      <th>ticket_numeric</th>\n",
              "    </tr>\n",
              "  </thead>\n",
              "  <tbody>\n",
              "    <tr>\n",
              "      <th>0</th>\n",
              "      <td>0.0</td>\n",
              "      <td>3</td>\n",
              "      <td>male</td>\n",
              "      <td>22.0</td>\n",
              "      <td>1</td>\n",
              "      <td>0</td>\n",
              "      <td>7.2500</td>\n",
              "      <td>S</td>\n",
              "      <td>0</td>\n",
              "      <td>Mr</td>\n",
              "      <td>n</td>\n",
              "      <td>0</td>\n",
              "    </tr>\n",
              "    <tr>\n",
              "      <th>1</th>\n",
              "      <td>1.0</td>\n",
              "      <td>1</td>\n",
              "      <td>female</td>\n",
              "      <td>38.0</td>\n",
              "      <td>1</td>\n",
              "      <td>0</td>\n",
              "      <td>71.2833</td>\n",
              "      <td>C</td>\n",
              "      <td>0</td>\n",
              "      <td>Mrs</td>\n",
              "      <td>C</td>\n",
              "      <td>0</td>\n",
              "    </tr>\n",
              "    <tr>\n",
              "      <th>2</th>\n",
              "      <td>1.0</td>\n",
              "      <td>3</td>\n",
              "      <td>female</td>\n",
              "      <td>26.0</td>\n",
              "      <td>0</td>\n",
              "      <td>0</td>\n",
              "      <td>7.9250</td>\n",
              "      <td>S</td>\n",
              "      <td>0</td>\n",
              "      <td>Miss</td>\n",
              "      <td>n</td>\n",
              "      <td>0</td>\n",
              "    </tr>\n",
              "    <tr>\n",
              "      <th>3</th>\n",
              "      <td>1.0</td>\n",
              "      <td>1</td>\n",
              "      <td>female</td>\n",
              "      <td>35.0</td>\n",
              "      <td>1</td>\n",
              "      <td>0</td>\n",
              "      <td>53.1000</td>\n",
              "      <td>S</td>\n",
              "      <td>0</td>\n",
              "      <td>Mrs</td>\n",
              "      <td>C</td>\n",
              "      <td>1</td>\n",
              "    </tr>\n",
              "    <tr>\n",
              "      <th>4</th>\n",
              "      <td>0.0</td>\n",
              "      <td>3</td>\n",
              "      <td>male</td>\n",
              "      <td>35.0</td>\n",
              "      <td>0</td>\n",
              "      <td>0</td>\n",
              "      <td>8.0500</td>\n",
              "      <td>S</td>\n",
              "      <td>0</td>\n",
              "      <td>Mr</td>\n",
              "      <td>n</td>\n",
              "      <td>1</td>\n",
              "    </tr>\n",
              "  </tbody>\n",
              "</table>\n",
              "</div>"
            ],
            "text/plain": [
              "   Survived  Pclass     Sex  ...  name_title  cabin_init  ticket_numeric\n",
              "0       0.0       3    male  ...          Mr           n               0\n",
              "1       1.0       1  female  ...         Mrs           C               0\n",
              "2       1.0       3  female  ...        Miss           n               0\n",
              "3       1.0       1  female  ...         Mrs           C               1\n",
              "4       0.0       3    male  ...          Mr           n               1\n",
              "\n",
              "[5 rows x 12 columns]"
            ]
          },
          "metadata": {
            "tags": []
          },
          "execution_count": 100
        }
      ]
    },
    {
      "cell_type": "code",
      "metadata": {
        "id": "Fx8brVzuQu8Q",
        "colab_type": "code",
        "colab": {
          "base_uri": "https://localhost:8080/",
          "height": 109
        },
        "outputId": "6c7a6c69-286f-4fd9-b4db-a0096dc7e9ad"
      },
      "source": [
        "# Converting Sex feature from categorical to a binary feature\n",
        "print('Datatype of Sex feature before: {}'.format(df['Sex'].dtype))\n",
        "df['Sex'] = df['Sex'].apply(lambda x: 1 if (x=='male') else 0)\n",
        "print('Datatype of Sex feature after: {}'.format(df['Sex'].dtype))\n",
        "print('---------------------------------------------')\n",
        "print('Column name before: {}'.format(df.columns[2]))\n",
        "df.rename(mapper={'Sex':'Sex_male'}, axis=1, inplace=True)\n",
        "print('Column name after: {}'.format(df.columns[2]))"
      ],
      "execution_count": 101,
      "outputs": [
        {
          "output_type": "stream",
          "text": [
            "Datatype of Sex feature before: object\n",
            "Datatype of Sex feature after: int64\n",
            "---------------------------------------------\n",
            "Column name before: Sex\n",
            "Column name after: Sex_male\n"
          ],
          "name": "stdout"
        }
      ]
    },
    {
      "cell_type": "code",
      "metadata": {
        "id": "pOO4uiUUTyHn",
        "colab_type": "code",
        "colab": {
          "base_uri": "https://localhost:8080/",
          "height": 54
        },
        "outputId": "50f58f97-a1b7-4087-a248-25b42cc4fee8"
      },
      "source": [
        "# Converting Embarked column using get_dummies()\n",
        "print('Shape of df before: {}'.format(df.shape))\n",
        "df = pd.get_dummies(data=df, columns=['Embarked', 'name_title', 'cabin_init'], drop_first=True)\n",
        "print('Shape of df after: {}'.format(df.shape))"
      ],
      "execution_count": 102,
      "outputs": [
        {
          "output_type": "stream",
          "text": [
            "Shape of df before: (1309, 12)\n",
            "Shape of df after: (1309, 23)\n"
          ],
          "name": "stdout"
        }
      ]
    },
    {
      "cell_type": "markdown",
      "metadata": {
        "colab_type": "text",
        "id": "mayCCxiHr96j"
      },
      "source": [
        "### Feature Selection\n",
        "\n"
      ]
    },
    {
      "cell_type": "code",
      "metadata": {
        "id": "Fqa1W7w_urGa",
        "colab_type": "code",
        "colab": {
          "base_uri": "https://localhost:8080/",
          "height": 165
        },
        "outputId": "e88015be-3fb4-4a99-830a-4c65437e2e3b"
      },
      "source": [
        "# Feature Importance\n",
        "from sklearn.ensemble import ExtraTreesClassifier\n",
        "temp_X_train = df[df['test_data']==0].drop(['Survived'], axis=1)\n",
        "temp_y_train = df[df['test_data']==0]['Survived']\n",
        "etc = ExtraTreesClassifier()\n",
        "etc.fit(temp_X_train, temp_y_train)"
      ],
      "execution_count": 103,
      "outputs": [
        {
          "output_type": "execute_result",
          "data": {
            "text/plain": [
              "ExtraTreesClassifier(bootstrap=False, ccp_alpha=0.0, class_weight=None,\n",
              "                     criterion='gini', max_depth=None, max_features='auto',\n",
              "                     max_leaf_nodes=None, max_samples=None,\n",
              "                     min_impurity_decrease=0.0, min_impurity_split=None,\n",
              "                     min_samples_leaf=1, min_samples_split=2,\n",
              "                     min_weight_fraction_leaf=0.0, n_estimators=100,\n",
              "                     n_jobs=None, oob_score=False, random_state=None, verbose=0,\n",
              "                     warm_start=False)"
            ]
          },
          "metadata": {
            "tags": []
          },
          "execution_count": 103
        }
      ]
    },
    {
      "cell_type": "code",
      "metadata": {
        "id": "TS5aKtC-v3bc",
        "colab_type": "code",
        "colab": {
          "base_uri": "https://localhost:8080/",
          "height": 431
        },
        "outputId": "f9696f50-c049-49c0-d3a2-6e31978f644b"
      },
      "source": [
        "plt.figure(figsize=(10,7))\n",
        "feature_score = pd.Series(etc.feature_importances_, index=temp_X_train.columns)\n",
        "feature_score.nlargest(10).plot(kind='barh')\n",
        "plt.show()"
      ],
      "execution_count": 104,
      "outputs": [
        {
          "output_type": "display_data",
          "data": {
            "image/png": "[encoded data removed]",
            "text/plain": [
              "<Figure size 720x504 with 1 Axes>"
            ]
          },
          "metadata": {
            "tags": []
          }
        }
      ]
    },
    {
      "cell_type": "code",
      "metadata": {
        "id": "XyJkHxlOyIaZ",
        "colab_type": "code",
        "colab": {
          "base_uri": "https://localhost:8080/",
          "height": 72
        },
        "outputId": "55f5cc3a-0901-40a5-c268-2200d39696e0"
      },
      "source": [
        "feature_score.nlargest(10).index"
      ],
      "execution_count": 105,
      "outputs": [
        {
          "output_type": "execute_result",
          "data": {
            "text/plain": [
              "Index(['Age', 'Fare', 'name_title_Mr', 'Sex_male', 'Pclass', 'SibSp',\n",
              "       'cabin_init_n', 'name_title_Mrs', 'Parch', 'name_title_Miss'],\n",
              "      dtype='object')"
            ]
          },
          "metadata": {
            "tags": []
          },
          "execution_count": 105
        }
      ]
    },
    {
      "cell_type": "code",
      "metadata": {
        "id": "rqV6OlaTxonG",
        "colab_type": "code",
        "colab": {}
      },
      "source": [
        "# Selecting top 10 features\n",
        "df_important_features = df[['Age', 'Fare', 'Sex_male', 'name_title_Mr', 'Pclass', 'SibSp',\n",
        "                            'cabin_init_n', 'Parch', 'name_title_Mrs', 'name_title_Miss', 'Survived', 'test_data']]"
      ],
      "execution_count": 106,
      "outputs": []
    },
    {
      "cell_type": "code",
      "metadata": {
        "id": "ZzPYWAXpzG_J",
        "colab_type": "code",
        "colab": {
          "base_uri": "https://localhost:8080/",
          "height": 91
        },
        "outputId": "9fc7d6c5-4b58-4431-91e1-827460227847"
      },
      "source": [
        "df_important_features.columns"
      ],
      "execution_count": 107,
      "outputs": [
        {
          "output_type": "execute_result",
          "data": {
            "text/plain": [
              "Index(['Age', 'Fare', 'Sex_male', 'name_title_Mr', 'Pclass', 'SibSp',\n",
              "       'cabin_init_n', 'Parch', 'name_title_Mrs', 'name_title_Miss',\n",
              "       'Survived', 'test_data'],\n",
              "      dtype='object')"
            ]
          },
          "metadata": {
            "tags": []
          },
          "execution_count": 107
        }
      ]
    },
    {
      "cell_type": "markdown",
      "metadata": {
        "id": "lIzSFuU5lSH5",
        "colab_type": "text"
      },
      "source": [
        "### Feature Scaling"
      ]
    },
    {
      "cell_type": "code",
      "metadata": {
        "id": "Fh47zyS9VsAO",
        "colab_type": "code",
        "colab": {
          "base_uri": "https://localhost:8080/",
          "height": 35
        },
        "outputId": "0f543ef4-a10f-42e0-828c-0ca2e8c4a9da"
      },
      "source": [
        "# Splitting the dataset into train set and test set\n",
        "X_train = df_important_features[df_important_features['test_data']==0].drop(['Survived'], axis=1)\n",
        "X_train.drop(['test_data'], axis=1, inplace=True)\n",
        "y_train = df_important_features[df_important_features['test_data']==0]['Survived']\n",
        "X_test = df_important_features[df_important_features['test_data']==1].drop(['Survived'], axis=1)\n",
        "X_test.drop(['test_data'], axis=1, inplace=True)\n",
        "print('X_train size: {}, X_test size: {}'.format(X_train.shape, X_test.shape))"
      ],
      "execution_count": 108,
      "outputs": [
        {
          "output_type": "stream",
          "text": [
            "X_train size: (891, 10), X_test size: (418, 10)\n"
          ],
          "name": "stdout"
        }
      ]
    },
    {
      "cell_type": "code",
      "metadata": {
        "id": "-LJlnscRXbKe",
        "colab_type": "code",
        "colab": {}
      },
      "source": [
        "# Feature Scaling using StandardScalar\n",
        "from sklearn.preprocessing import StandardScaler\n",
        "ss = StandardScaler()\n",
        "X_train_scaled = ss.fit_transform(X_train)\n",
        "X_test_scaled = ss.transform(X_test)"
      ],
      "execution_count": 109,
      "outputs": []
    },
    {
      "cell_type": "markdown",
      "metadata": {
        "id": "Bov-VNt7Z42S",
        "colab_type": "text"
      },
      "source": [
        "## Model Building\n",
        "*   K-Nearest Neighbours - _Accuracy: 81.8202%_\n",
        "*   Logistic Regression - _Accuracy: 81.8165%_\n",
        "*   **Support Vector Machine - _Accuracy: 82.829%_**\n",
        "*   Decision Tree - _Accuracy: 78.9064%_\n",
        "*   Random Forest - _Accuracy: 81.7166%_\n",
        "*   **Extreme Gradient Boosting (XGBoost) _(Ensemble) - Accuracy: 83.0562%_**\n",
        "*   **Voting _(Ensemble) - Accuracy: 83.7291%_**"
      ]
    },
    {
      "cell_type": "code",
      "metadata": {
        "id": "rIH4N6GIzwNg",
        "colab_type": "code",
        "colab": {}
      },
      "source": [
        "from sklearn.model_selection import cross_val_score"
      ],
      "execution_count": 110,
      "outputs": []
    },
    {
      "cell_type": "code",
      "metadata": {
        "id": "TNi751YEZuZG",
        "colab_type": "code",
        "colab": {
          "base_uri": "https://localhost:8080/",
          "height": 72
        },
        "outputId": "be172e4c-362a-4095-eea0-4cfe1a9e79af"
      },
      "source": [
        "# Fitting KNN to the Training set\n",
        "from sklearn.neighbors import KNeighborsClassifier\n",
        "knn = KNeighborsClassifier(n_neighbors=5)\n",
        "cv = cross_val_score(knn, X_train_scaled, y_train, cv=10, scoring='accuracy')\n",
        "print('--- Average Accuracy: {}% ---'.format(round(cv.mean()*100, 4)))\n",
        "print('Scores for each cycle: {}'.format(cv))"
      ],
      "execution_count": 111,
      "outputs": [
        {
          "output_type": "stream",
          "text": [
            "--- Average Accuracy: 81.8202% ---\n",
            "Scores for each cycle: [0.8        0.85393258 0.75280899 0.79775281 0.83146067 0.82022472\n",
            " 0.83146067 0.79775281 0.85393258 0.84269663]\n"
          ],
          "name": "stdout"
        }
      ]
    },
    {
      "cell_type": "code",
      "metadata": {
        "colab_type": "code",
        "id": "9pFDmS_11WrI",
        "colab": {
          "base_uri": "https://localhost:8080/",
          "height": 72
        },
        "outputId": "a3cf82c9-dd0c-491a-c70a-f31ccdbcf6c9"
      },
      "source": [
        "# Fitting Logistic Regression to the Training set\n",
        "from sklearn.linear_model import LogisticRegression\n",
        "lr = LogisticRegression(max_iter = 2000)\n",
        "cv = cross_val_score(lr, X_train_scaled, y_train, cv=10, scoring='accuracy')\n",
        "print('--- Average Accuracy: {}% ---'.format(round(cv.mean()*100, 4)))\n",
        "print('Scores for each cycle: {}'.format(cv))"
      ],
      "execution_count": 112,
      "outputs": [
        {
          "output_type": "stream",
          "text": [
            "--- Average Accuracy: 81.8165% ---\n",
            "Scores for each cycle: [0.83333333 0.82022472 0.75280899 0.85393258 0.82022472 0.76404494\n",
            " 0.84269663 0.82022472 0.83146067 0.84269663]\n"
          ],
          "name": "stdout"
        }
      ]
    },
    {
      "cell_type": "code",
      "metadata": {
        "id": "3MVYFRd1fO9q",
        "colab_type": "code",
        "colab": {
          "base_uri": "https://localhost:8080/",
          "height": 72
        },
        "outputId": "d412eb95-74d7-4f86-acca-7a2547180950"
      },
      "source": [
        "# Fitting Support Vector Machine to the Training set\n",
        "from sklearn.svm import SVC\n",
        "svc = SVC(probability = True)\n",
        "cv = cross_val_score(svc, X_train_scaled, y_train, cv=10, scoring='accuracy')\n",
        "print('--- Average Accuracy: {}% ---'.format(round(cv.mean()*100, 4)))\n",
        "print('Scores for each cycle: {}'.format(cv))"
      ],
      "execution_count": 113,
      "outputs": [
        {
          "output_type": "stream",
          "text": [
            "--- Average Accuracy: 82.829% ---\n",
            "Scores for each cycle: [0.82222222 0.87640449 0.76404494 0.87640449 0.84269663 0.7752809\n",
            " 0.82022472 0.79775281 0.85393258 0.85393258]\n"
          ],
          "name": "stdout"
        }
      ]
    },
    {
      "cell_type": "code",
      "metadata": {
        "colab_type": "code",
        "id": "GxskrR1Yc48D",
        "colab": {
          "base_uri": "https://localhost:8080/",
          "height": 72
        },
        "outputId": "5138a30a-a041-42f6-a135-471766f8706a"
      },
      "source": [
        "# Fitting Decision Tree to the Training set\n",
        "from sklearn.tree import DecisionTreeClassifier\n",
        "dt = DecisionTreeClassifier(random_state = 1)\n",
        "cv = cross_val_score(dt, X_train_scaled, y_train, cv=10, scoring='accuracy')\n",
        "print('--- Average Accuracy: {}% ---'.format(round(cv.mean()*100, 4)))\n",
        "print('Scores for each cycle: {}'.format(cv))"
      ],
      "execution_count": 114,
      "outputs": [
        {
          "output_type": "stream",
          "text": [
            "--- Average Accuracy: 78.9064% ---\n",
            "Scores for each cycle: [0.73333333 0.79775281 0.66292135 0.75280899 0.86516854 0.84269663\n",
            " 0.78651685 0.76404494 0.85393258 0.83146067]\n"
          ],
          "name": "stdout"
        }
      ]
    },
    {
      "cell_type": "code",
      "metadata": {
        "colab_type": "code",
        "id": "93VZICpheYr7",
        "colab": {
          "base_uri": "https://localhost:8080/",
          "height": 72
        },
        "outputId": "b168d472-4c9b-4957-99fc-06441a89a618"
      },
      "source": [
        "# Fitting Random Forest to the Training set\n",
        "from sklearn.ensemble import RandomForestClassifier\n",
        "rf = RandomForestClassifier(random_state = 1)\n",
        "cv = cross_val_score(rf, X_train_scaled, y_train, cv=10, scoring='accuracy')\n",
        "print('--- Average Accuracy: {}% ---'.format(round(cv.mean()*100, 4)))\n",
        "print('Scores for each cycle: {}'.format(cv))"
      ],
      "execution_count": 115,
      "outputs": [
        {
          "output_type": "stream",
          "text": [
            "--- Average Accuracy: 81.7166% ---\n",
            "Scores for each cycle: [0.72222222 0.84269663 0.71910112 0.85393258 0.84269663 0.87640449\n",
            " 0.79775281 0.78651685 0.87640449 0.85393258]\n"
          ],
          "name": "stdout"
        }
      ]
    },
    {
      "cell_type": "code",
      "metadata": {
        "id": "a3JNOTKW3QRQ",
        "colab_type": "code",
        "colab": {
          "base_uri": "https://localhost:8080/",
          "height": 72
        },
        "outputId": "d6095768-e527-48c0-9879-5f6faba18392"
      },
      "source": [
        "# Fitting XGBoost to the Training set\n",
        "from xgboost import XGBClassifier\n",
        "xgb = XGBClassifier(random_state = 1)\n",
        "cv = cross_val_score(xgb, X_train_scaled, y_train, cv=10, scoring='accuracy')\n",
        "print('--- Average Accuracy: {}% ---'.format(round(cv.mean()*100, 4)))\n",
        "print('Scores for each cycle: {}'.format(cv))"
      ],
      "execution_count": 116,
      "outputs": [
        {
          "output_type": "stream",
          "text": [
            "--- Average Accuracy: 83.0562% ---\n",
            "Scores for each cycle: [0.8        0.80898876 0.76404494 0.85393258 0.88764045 0.82022472\n",
            " 0.84269663 0.83146067 0.86516854 0.83146067]\n"
          ],
          "name": "stdout"
        }
      ]
    },
    {
      "cell_type": "code",
      "metadata": {
        "id": "b4VNzZiU30U9",
        "colab_type": "code",
        "colab": {
          "base_uri": "https://localhost:8080/",
          "height": 72
        },
        "outputId": "4f9cea78-b657-4d2a-f2b2-668a5759273c"
      },
      "source": [
        "# Fitting VotingClassifier to the Training set\n",
        "from sklearn.ensemble import VotingClassifier\n",
        "vt = VotingClassifier(estimators = [('xgb',xgb), ('svc',svc), ('lr',lr), ('knn',knn), ('rf',rf)], voting = 'soft') \n",
        "cv = cross_val_score(vt, X_train_scaled, y_train, cv=10, scoring='accuracy')\n",
        "print('--- Average Accuracy: {}% ---'.format(round(cv.mean()*100, 4)))\n",
        "print('Scores for each cycle: {}'.format(cv))"
      ],
      "execution_count": 117,
      "outputs": [
        {
          "output_type": "stream",
          "text": [
            "--- Average Accuracy: 83.7291% ---\n",
            "Scores for each cycle: [0.81111111 0.88764045 0.76404494 0.86516854 0.84269663 0.83146067\n",
            " 0.83146067 0.80898876 0.86516854 0.86516854]\n"
          ],
          "name": "stdout"
        }
      ]
    },
    {
      "cell_type": "markdown",
      "metadata": {
        "id": "eoj_vnZw5va1",
        "colab_type": "text"
      },
      "source": [
        "## Submission"
      ]
    },
    {
      "cell_type": "code",
      "metadata": {
        "id": "jlU7861k5xk0",
        "colab_type": "code",
        "colab": {}
      },
      "source": [
        "# VotingClassifier\n",
        "vt = VotingClassifier(estimators = [('xgb',xgb), ('svc',svc), ('lr',lr), ('knn',knn), ('rf',rf)], voting = 'soft') \n",
        "vt.fit(X_train_scaled, y_train)\n",
        "\n",
        "prediction = vt.predict(X_test_scaled)\n",
        "\n",
        "submission = pd.DataFrame({\n",
        "        \"PassengerId\": test[\"PassengerId\"],\n",
        "        \"Survived\": prediction.astype(int)\n",
        "    })\n",
        "\n",
        "submission.to_csv('vt_submission.csv', index=False)"
      ],
      "execution_count": 121,
      "outputs": []
    },
    {
      "cell_type": "markdown",
      "metadata": {
        "id": "TFv9sv_xZcD3",
        "colab_type": "text"
      },
      "source": [
        "_**Reference(s):**_<br/>\n",
        "This notebook is created by learning from the following notebooks:<br/>\n",
        "*   _Titanic Project Example by **Kenneth Jee:** https://www.kaggle.com/kenjee/titanic-project-example_\n",
        "*   _Titanic - Machine Learning from Disaster by **Minsuk Heo:** https://github.com/minsuk-heo/kaggle-titanic/blob/master/titanic-solution.ipynb_"
      ]
    }
  ]
}